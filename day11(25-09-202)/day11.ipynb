{
 "cells": [
  {
   "cell_type": "code",
   "execution_count": 1,
   "metadata": {},
   "outputs": [
    {
     "name": "stdout",
     "output_type": "stream",
     "text": [
      "21\n",
      "None\n"
     ]
    }
   ],
   "source": [
    "def swap_case(s):\n",
    "    return\n",
    "s=input()\n",
    "print(swap_case(s))"
   ]
  },
  {
   "cell_type": "code",
   "execution_count": 2,
   "metadata": {},
   "outputs": [
    {
     "name": "stdout",
     "output_type": "stream",
     "text": [
      "hackerrank.com presents 'pythonist 2'.\n",
      "Hackerrank.com presents 'pythonist 2'.\n",
      "Hackerrank.Com Presents 'Pythonist 2'.\n",
      "None\n"
     ]
    }
   ],
   "source": [
    "p = \"HackerRank.com presents 'Pythonist 2'.\"\n",
    "print(p.lower())\n",
    "print(p.capitalize())\n",
    "print(p.title())\n",
    "print(swap_case(p))"
   ]
  },
  {
   "cell_type": "code",
   "execution_count": 3,
   "metadata": {},
   "outputs": [
    {
     "name": "stdout",
     "output_type": "stream",
     "text": [
      "['__add__', '__class__', '__contains__', '__delattr__', '__dir__', '__doc__', '__eq__', '__format__', '__ge__', '__getattribute__', '__getitem__', '__getnewargs__', '__gt__', '__hash__', '__init__', '__init_subclass__', '__iter__', '__le__', '__len__', '__lt__', '__mod__', '__mul__', '__ne__', '__new__', '__reduce__', '__reduce_ex__', '__repr__', '__rmod__', '__rmul__', '__setattr__', '__sizeof__', '__str__', '__subclasshook__', 'capitalize', 'casefold', 'center', 'count', 'encode', 'endswith', 'expandtabs', 'find', 'format', 'format_map', 'index', 'isalnum', 'isalpha', 'isascii', 'isdecimal', 'isdigit', 'isidentifier', 'islower', 'isnumeric', 'isprintable', 'isspace', 'istitle', 'isupper', 'join', 'ljust', 'lower', 'lstrip', 'maketrans', 'partition', 'replace', 'rfind', 'rindex', 'rjust', 'rpartition', 'rsplit', 'rstrip', 'split', 'splitlines', 'startswith', 'strip', 'swapcase', 'title', 'translate', 'upper', 'zfill']\n"
     ]
    }
   ],
   "source": [
    "print(dir(str))\n"
   ]
  },
  {
   "cell_type": "code",
   "execution_count": 4,
   "metadata": {},
   "outputs": [
    {
     "name": "stdout",
     "output_type": "stream",
     "text": [
      "['this', 'is', 'sample', 'example']\n"
     ]
    }
   ],
   "source": [
    "a=\"this is sample example\"\n",
    "w=a.split()\n",
    "print(w)"
   ]
  },
  {
   "cell_type": "code",
   "execution_count": 7,
   "metadata": {},
   "outputs": [
    {
     "name": "stdout",
     "output_type": "stream",
     "text": [
      "@\n",
      "['veenamadhavi']\n"
     ]
    }
   ],
   "source": [
    "r = \"veenamadhavi\"\n",
    "n = input()\n",
    "c = r.split(n)\n",
    "print(c)\n"
   ]
  },
  {
   "cell_type": "code",
   "execution_count": 8,
   "metadata": {},
   "outputs": [
    {
     "name": "stdout",
     "output_type": "stream",
     "text": [
      "s@%Y&q\n",
      "s@%Y&q\n",
      "s@%Y&q\n"
     ]
    }
   ],
   "source": [
    "y = \"asr@R%qYd&uq\"\n",
    "for i in (y,1,' @ '):\n",
    "    print(y[1::2])"
   ]
  },
  {
   "cell_type": "code",
   "execution_count": 1,
   "metadata": {},
   "outputs": [
    {
     "name": "stdout",
     "output_type": "stream",
     "text": [
      "Odd place position characters are: s @ 1 q 6 & 8 \n",
      "Even place position characters are: a r R % Y d u q \n",
      "Odd place position characters count is: 7\n",
      "Even place position characters count is: 8\n",
      "Uppercase characters are: R Y \n",
      "lowercase characters are: a s r q d u q \n",
      "Integers are: 1 6 8 \n",
      "Special characters are: @ % & \n"
     ]
    }
   ],
   "source": [
    "\n",
    "def oddpc(t):\n",
    "    e,o=\"\",\"\"\n",
    "    ec,oc=0,0\n",
    "    for l in range(len(t)):\n",
    "        if l%2!=0:\n",
    "            o+=t[l]+\" \"\n",
    "            oc+=1\n",
    "        else:\n",
    "            e+=t[l]+\" \"\n",
    "            ec+=1\n",
    "    print(\"Odd place position characters are: {}\".format(o))\n",
    "    print(\"Even place position characters are: {}\".format(e))\n",
    "    print(\"Odd place position characters count is: {}\".format(oc))\n",
    "    print(\"Even place position characters count is: {}\".format(ec))\n",
    "    return\n",
    "\n",
    "\n",
    "def spch(d):\n",
    "    u,l,i,s=\"\",\"\",\"\",\"\"\n",
    "    for v in d:\n",
    "        if v.isupper():\n",
    "            u+=v+\" \"\n",
    "        elif v.islower():\n",
    "            l+=v+\" \"\n",
    "        elif v.isdecimal():\n",
    "            i+=v+\" \"\n",
    "        else:\n",
    "            s+=v+\" \"\n",
    "    print(\"Uppercase characters are: {}\".format(u))\n",
    "    print(\"lowercase characters are: {}\".format(l))\n",
    "    print(\"Integers are: {}\".format(i))\n",
    "    print(\"Special characters are: {}\".format(s))\n",
    "    return\n",
    "\n",
    "m=\"asr@R1%qY6d&u8q\"\n",
    "oddpc(m)\n",
    "spch(m)"
   ]
  },
  {
   "cell_type": "code",
   "execution_count": null,
   "metadata": {},
   "outputs": [],
   "source": []
  }
 ],
 "metadata": {
  "kernelspec": {
   "display_name": "Python 3",
   "language": "python",
   "name": "python3"
  },
  "language_info": {
   "codemirror_mode": {
    "name": "ipython",
    "version": 3
   },
   "file_extension": ".py",
   "mimetype": "text/x-python",
   "name": "python",
   "nbconvert_exporter": "python",
   "pygments_lexer": "ipython3",
   "version": "3.7.4"
  }
 },
 "nbformat": 4,
 "nbformat_minor": 4
}
