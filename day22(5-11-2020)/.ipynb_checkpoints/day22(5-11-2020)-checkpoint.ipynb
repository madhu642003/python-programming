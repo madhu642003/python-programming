{
 "cells": [
  {
   "cell_type": "code",
   "execution_count": 2,
   "metadata": {},
   "outputs": [
    {
     "name": "stdout",
     "output_type": "stream",
     "text": [
      "21 7\n"
     ]
    }
   ],
   "source": [
    "## tables\n",
    "\n",
    "with open(\"data files/input1.txt\",\"a\") as ft:\n",
    "    p=input()\n",
    "    ft.write(p+\"\\n\")"
   ]
  },
  {
   "cell_type": "code",
   "execution_count": 3,
   "metadata": {},
   "outputs": [
    {
     "name": "stdout",
     "output_type": "stream",
     "text": [
      "5 15\n",
      "5 x 01 = 05\n",
      "\n",
      "5 x 02 = 10\n",
      "\n",
      "5 x 03 = 15\n",
      "\n",
      "5 x 04 = 20\n",
      "\n",
      "5 x 05 = 25\n",
      "\n",
      "5 x 06 = 30\n",
      "\n",
      "5 x 07 = 35\n",
      "\n",
      "5 x 08 = 40\n",
      "\n",
      "5 x 09 = 45\n",
      "\n",
      "5 x 10 = 50\n",
      "\n",
      "5 x 11 = 55\n",
      "\n",
      "5 x 12 = 60\n",
      "\n",
      "5 x 13 = 65\n",
      "\n",
      "5 x 14 = 70\n",
      "\n",
      "5 x 15 = 75\n",
      "\n"
     ]
    }
   ],
   "source": [
    "\n",
    "n=input().split()\n",
    "t=int(n[0])\n",
    "r=int(n[1])\n",
    "for i in range(1,r+1):\n",
    "    print(\"{} x {:02} = {:02}\".format(t,i,t*i))\n",
    "    print(end=\"\\n\")"
   ]
  },
  {
   "cell_type": "code",
   "execution_count": 4,
   "metadata": {},
   "outputs": [
    {
     "name": "stdout",
     "output_type": "stream",
     "text": [
      "['21']\n",
      "['21', '7']\n"
     ]
    }
   ],
   "source": [
    "with open(\"data files/input1.txt\",\"r\") as fr:\n",
    "    r=fr.readlines()\n",
    "    for t in r:\n",
    "        y=t.split(\"\\n\")[0]\n",
    "        \n",
    "        p=y.split()\n",
    "        print(p)"
   ]
  },
  {
   "cell_type": "code",
   "execution_count": 5,
   "metadata": {},
   "outputs": [
    {
     "ename": "IndexError",
     "evalue": "list index out of range",
     "output_type": "error",
     "traceback": [
      "\u001b[1;31m---------------------------------------------------------------------------\u001b[0m",
      "\u001b[1;31mIndexError\u001b[0m                                Traceback (most recent call last)",
      "\u001b[1;32m<ipython-input-5-a8316bc854f7>\u001b[0m in \u001b[0;36m<module>\u001b[1;34m\u001b[0m\n\u001b[0;32m      6\u001b[0m             \u001b[0mp\u001b[0m\u001b[1;33m=\u001b[0m\u001b[0my\u001b[0m\u001b[1;33m.\u001b[0m\u001b[0msplit\u001b[0m\u001b[1;33m(\u001b[0m\u001b[1;33m)\u001b[0m\u001b[1;33m\u001b[0m\u001b[1;33m\u001b[0m\u001b[0m\n\u001b[0;32m      7\u001b[0m             \u001b[0mta\u001b[0m\u001b[1;33m=\u001b[0m\u001b[0mint\u001b[0m\u001b[1;33m(\u001b[0m\u001b[0mp\u001b[0m\u001b[1;33m[\u001b[0m\u001b[1;36m0\u001b[0m\u001b[1;33m]\u001b[0m\u001b[1;33m)\u001b[0m\u001b[1;33m\u001b[0m\u001b[1;33m\u001b[0m\u001b[0m\n\u001b[1;32m----> 8\u001b[1;33m             \u001b[0mra\u001b[0m\u001b[1;33m=\u001b[0m\u001b[0mint\u001b[0m\u001b[1;33m(\u001b[0m\u001b[0mp\u001b[0m\u001b[1;33m[\u001b[0m\u001b[1;36m1\u001b[0m\u001b[1;33m]\u001b[0m\u001b[1;33m)\u001b[0m\u001b[1;33m\u001b[0m\u001b[1;33m\u001b[0m\u001b[0m\n\u001b[0m\u001b[0;32m      9\u001b[0m             \u001b[0mm\u001b[0m\u001b[1;33m=\u001b[0m\u001b[1;34m\"\"\u001b[0m\u001b[1;33m\u001b[0m\u001b[1;33m\u001b[0m\u001b[0m\n\u001b[0;32m     10\u001b[0m             \u001b[1;32mfor\u001b[0m \u001b[0mj\u001b[0m \u001b[1;32min\u001b[0m \u001b[0mrange\u001b[0m\u001b[1;33m(\u001b[0m\u001b[1;36m1\u001b[0m\u001b[1;33m,\u001b[0m\u001b[0mra\u001b[0m\u001b[1;33m+\u001b[0m\u001b[1;36m1\u001b[0m\u001b[1;33m)\u001b[0m\u001b[1;33m:\u001b[0m\u001b[1;33m\u001b[0m\u001b[1;33m\u001b[0m\u001b[0m\n",
      "\u001b[1;31mIndexError\u001b[0m: list index out of range"
     ]
    }
   ],
   "source": [
    "with open(\"data files/input1.txt\",\"r\") as fr:\n",
    "    r=fr.readlines()\n",
    "    with open(\"data files/output1.txt\",\"w\") as fp:\n",
    "        for t in r:\n",
    "            y=t.split(\"\\n\")[0]\n",
    "            p=y.split()\n",
    "            ta=int(p[0])\n",
    "            ra=int(p[1])\n",
    "            m=\"\"\n",
    "            for j in range(1,ra+1):\n",
    "                m=m+\"{} x {:02} = {:02}\".format(ta,j,ta*j)+\"\\n\"\n",
    "            fp.write(m+\"\\n\")"
   ]
  },
  {
   "cell_type": "code",
   "execution_count": null,
   "metadata": {},
   "outputs": [],
   "source": []
  }
 ],
 "metadata": {
  "kernelspec": {
   "display_name": "Python 3",
   "language": "python",
   "name": "python3"
  },
  "language_info": {
   "codemirror_mode": {
    "name": "ipython",
    "version": 3
   },
   "file_extension": ".py",
   "mimetype": "text/x-python",
   "name": "python",
   "nbconvert_exporter": "python",
   "pygments_lexer": "ipython3",
   "version": "3.7.4"
  }
 },
 "nbformat": 4,
 "nbformat_minor": 4
}
