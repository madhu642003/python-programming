{
 "cells": [
  {
   "cell_type": "markdown",
   "metadata": {},
   "source": [
    "## looping statements\n",
    "- To perform a task multiple times\n",
    "- in python,we have for and while only\n",
    "### for loop:\n",
    "- for in range():\n",
    "       # body of the loop"
   ]
  },
  {
   "cell_type": "code",
   "execution_count": 1,
   "metadata": {},
   "outputs": [
    {
     "data": {
      "text/plain": [
       "range(0, 10)"
      ]
     },
     "execution_count": 1,
     "metadata": {},
     "output_type": "execute_result"
    }
   ],
   "source": [
    "range(10)"
   ]
  },
  {
   "cell_type": "code",
   "execution_count": 2,
   "metadata": {},
   "outputs": [
    {
     "data": {
      "text/plain": [
       "range(1, 10)"
      ]
     },
     "execution_count": 2,
     "metadata": {},
     "output_type": "execute_result"
    }
   ],
   "source": [
    "range (1,10)"
   ]
  },
  {
   "cell_type": "code",
   "execution_count": 4,
   "metadata": {},
   "outputs": [
    {
     "name": "stdout",
     "output_type": "stream",
     "text": [
      "0\n",
      "1\n",
      "2\n",
      "3\n",
      "4\n",
      "5\n",
      "6\n",
      "7\n",
      "8\n",
      "9\n"
     ]
    }
   ],
   "source": [
    "for x in range(10):\n",
    "    print(x)"
   ]
  },
  {
   "cell_type": "code",
   "execution_count": 6,
   "metadata": {},
   "outputs": [
    {
     "name": "stdout",
     "output_type": "stream",
     "text": [
      "0 1 2 3 4 5 6 7 8 9 "
     ]
    }
   ],
   "source": [
    "for i in range(10):\n",
    "    print(i,end=' ')"
   ]
  },
  {
   "cell_type": "code",
   "execution_count": 9,
   "metadata": {},
   "outputs": [
    {
     "name": "stdout",
     "output_type": "stream",
     "text": [
      "0,1,2,3,4,5,6,7,8,9,"
     ]
    }
   ],
   "source": [
    "for i in range(10):\n",
    "    print(i,end=',')"
   ]
  },
  {
   "cell_type": "code",
   "execution_count": 10,
   "metadata": {},
   "outputs": [
    {
     "name": "stdout",
     "output_type": "stream",
     "text": [
      "1 2 3 4 5 6 7 8 9 "
     ]
    }
   ],
   "source": [
    "for y in range(1,10):\n",
    "    print(y,end=' ')"
   ]
  },
  {
   "cell_type": "code",
   "execution_count": 11,
   "metadata": {},
   "outputs": [
    {
     "name": "stdout",
     "output_type": "stream",
     "text": [
      "1 3 5 7 9 "
     ]
    }
   ],
   "source": [
    "for a in range(1,10,2):\n",
    "    print(a,end=' ')"
   ]
  },
  {
   "cell_type": "code",
   "execution_count": 22,
   "metadata": {},
   "outputs": [
    {
     "name": "stdout",
     "output_type": "stream",
     "text": [
      "enter a no to generate matn table:12\n",
      "12 * 1 = 12\n",
      "12 * 2 = 24\n",
      "12 * 3 = 36\n",
      "12 * 4 = 48\n",
      "12 * 5 = 60\n",
      "12 * 6 = 72\n",
      "12 * 7 = 84\n",
      "12 * 8 = 96\n",
      "12 * 9 = 108\n",
      "12 * 10 = 120\n"
     ]
    }
   ],
   "source": [
    "n=int(input('enter a no to generate matn table:'))\n",
    "for i in range(1,11):\n",
    "    print(n,'*',i,'=', n*i)"
   ]
  },
  {
   "cell_type": "code",
   "execution_count": 23,
   "metadata": {},
   "outputs": [],
   "source": [
    "### task1:generate math tables from upto given range\n",
    "## input:5\n",
    "## 2,3,4,5 tables"
   ]
  },
  {
   "cell_type": "code",
   "execution_count": 3,
   "metadata": {},
   "outputs": [
    {
     "name": "stdout",
     "output_type": "stream",
     "text": [
      "enter a no to generate matn table:5\n",
      "5 * 1 = 5\n",
      "5 * 1 = 5\n",
      "5 * 1 = 5\n",
      "5 * 1 = 5\n",
      "5 * 2 = 10\n",
      "5 * 2 = 10\n",
      "5 * 2 = 10\n",
      "5 * 2 = 10\n",
      "5 * 3 = 15\n",
      "5 * 3 = 15\n",
      "5 * 3 = 15\n",
      "5 * 3 = 15\n",
      "5 * 4 = 20\n",
      "5 * 4 = 20\n",
      "5 * 4 = 20\n",
      "5 * 4 = 20\n",
      "5 * 5 = 25\n",
      "5 * 5 = 25\n",
      "5 * 5 = 25\n",
      "5 * 5 = 25\n",
      "5 * 6 = 30\n",
      "5 * 6 = 30\n",
      "5 * 6 = 30\n",
      "5 * 6 = 30\n",
      "5 * 7 = 35\n",
      "5 * 7 = 35\n",
      "5 * 7 = 35\n",
      "5 * 7 = 35\n",
      "5 * 8 = 40\n",
      "5 * 8 = 40\n",
      "5 * 8 = 40\n",
      "5 * 8 = 40\n",
      "5 * 9 = 45\n",
      "5 * 9 = 45\n",
      "5 * 9 = 45\n",
      "5 * 9 = 45\n",
      "5 * 10 = 50\n",
      "5 * 10 = 50\n",
      "5 * 10 = 50\n",
      "5 * 10 = 50\n"
     ]
    }
   ],
   "source": [
    "n=int(input('enter a no to generate matn table:'))\n",
    "for i in range(1,11):\n",
    "    for j in range(1,n):\n",
    "        print(n,'*',i,'=', n*i)"
   ]
  },
  {
   "cell_type": "markdown",
   "metadata": {},
   "source": [
    "## While loop\n",
    "-  i=0\n",
    "   while(condition):\n",
    "   #body of the loop\n",
    "    increment/decrement"
   ]
  },
  {
   "cell_type": "code",
   "execution_count": 3,
   "metadata": {
    "scrolled": true
   },
   "outputs": [
    {
     "name": "stdout",
     "output_type": "stream",
     "text": [
      "1\n",
      "2\n",
      "3\n",
      "4\n",
      "5\n",
      "6\n",
      "7\n",
      "8\n",
      "9\n",
      "10\n",
      "11\n"
     ]
    }
   ],
   "source": [
    "i=1\n",
    "while(i<=10):\n",
    "    print(i)\n",
    "    i+=1\n",
    "print(i)"
   ]
  },
  {
   "cell_type": "markdown",
   "metadata": {},
   "source": [
    "### jump statements\n",
    "- by using these statements we will terminate(exit) the loop\n",
    "- those are break and continue\n",
    "- break:break statement will terminate the loop perminately\n",
    "- continue:it will terminate for instant time only"
   ]
  },
  {
   "cell_type": "code",
   "execution_count": 3,
   "metadata": {},
   "outputs": [
    {
     "name": "stdout",
     "output_type": "stream",
     "text": [
      "0 1 2 3 4 5 6 7 8 9 10 11 12 13 14 15 16 17 18 19 20 21 22 23 24 25 26 27 28 29 30 31 32 33 34 35 36 37 38 39 40 41 42 43 44 45 46 47 48 49 50 "
     ]
    }
   ],
   "source": [
    "for i in range(100):\n",
    "    if (i==51):\n",
    "        break\n",
    "    print(i,end=' ')"
   ]
  },
  {
   "cell_type": "code",
   "execution_count": 4,
   "metadata": {},
   "outputs": [],
   "source": [
    "for j in range(1,101):\n",
    "    if(j%5==0):\n",
    "        continue\n",
    "        print(j,end=' ')"
   ]
  },
  {
   "cell_type": "code",
   "execution_count": 2,
   "metadata": {},
   "outputs": [],
   "source": [
    "for j in range(1,101):\n",
    "    if(j%5==0):\n",
    "        continue\n",
    "        print(j,end=' ')"
   ]
  },
  {
   "cell_type": "code",
   "execution_count": 3,
   "metadata": {},
   "outputs": [],
   "source": [
    "# task2:generate even numbers up to 100(use range with 3 args)\n",
    "#input:enter start value   5\n",
    "#output: 6,8,10,........,100"
   ]
  },
  {
   "cell_type": "code",
   "execution_count": 1,
   "metadata": {},
   "outputs": [
    {
     "name": "stdout",
     "output_type": "stream",
     "text": [
      "enter start value:5\n",
      "5\n"
     ]
    }
   ],
   "source": [
    "n=int(input(\"enter start value:\"))\n",
    "for i in range(n,101,1):\n",
    "    if(i%2==0):\n",
    "        \n",
    "    print(i)"
   ]
  },
  {
   "cell_type": "code",
   "execution_count": null,
   "metadata": {},
   "outputs": [],
   "source": []
  }
 ],
 "metadata": {
  "kernelspec": {
   "display_name": "Python 3",
   "language": "python",
   "name": "python3"
  },
  "language_info": {
   "codemirror_mode": {
    "name": "ipython",
    "version": 3
   },
   "file_extension": ".py",
   "mimetype": "text/x-python",
   "name": "python",
   "nbconvert_exporter": "python",
   "pygments_lexer": "ipython3",
   "version": "3.7.4"
  }
 },
 "nbformat": 4,
 "nbformat_minor": 4
}
