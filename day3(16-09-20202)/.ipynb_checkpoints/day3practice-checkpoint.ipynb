{
 "cells": [
  {
   "cell_type": "markdown",
   "metadata": {},
   "source": [
    "# Today concepts\n",
    "## 16-09-2020\n",
    "### jupyter installation\n",
    "      - to install jupter we have to run a command pip install jupyter\n",
    "      - to open jupyter notebook we have to run a cmd in command prompt i.e, jupyter nootebooK\n",
    "\n",
    "### MAIN HEADING\n",
    "- ### sub heading1\n",
    "\n",
    "  - ### sub heading2\n",
    "  <img src='python logo.png'>\n",
    "      \n",
    "      "
   ]
  },
  {
   "cell_type": "code",
   "execution_count": 3,
   "metadata": {},
   "outputs": [
    {
     "name": "stdout",
     "output_type": "stream",
     "text": [
      "hi\n",
      "i am using jupyter notebook\n",
      "i am from aanm&vvrsr college\n"
     ]
    },
    {
     "data": {
      "text/plain": [
       "55"
      ]
     },
     "execution_count": 3,
     "metadata": {},
     "output_type": "execute_result"
    }
   ],
   "source": [
    "print(\"hi\")\n",
    "print(\"i am using jupyter notebook\")\n",
    "4+7\n",
    "print(\"i am from aanm&vvrsr college\")\n",
    "52+3\n"
   ]
  },
  {
   "cell_type": "markdown",
   "metadata": {},
   "source": []
  }
 ],
 "metadata": {
  "kernelspec": {
   "display_name": "Python 3",
   "language": "python",
   "name": "python3"
  },
  "language_info": {
   "codemirror_mode": {
    "name": "ipython",
    "version": 3
   },
   "file_extension": ".py",
   "mimetype": "text/x-python",
   "name": "python",
   "nbconvert_exporter": "python",
   "pygments_lexer": "ipython3",
   "version": "3.7.4"
  }
 },
 "nbformat": 4,
 "nbformat_minor": 4
}
