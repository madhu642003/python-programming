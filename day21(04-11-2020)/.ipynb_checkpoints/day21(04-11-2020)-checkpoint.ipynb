{
 "cells": [
  {
   "cell_type": "code",
   "execution_count": 1,
   "metadata": {},
   "outputs": [
    {
     "name": "stdout",
     "output_type": "stream",
     "text": [
      "[2, 3, 5, 7, 11, 13, 17, 19, 23, 29, 31, 37, 41, 43, 47, 53, 59, 61, 67, 71, 73, 79, 83, 89, 97]\n",
      "count of prime numbers:- 25\n",
      "sum of all prime numbers:- 1060\n",
      "maximum of all prime numbers:- 97\n"
     ]
    }
   ],
   "source": [
    "\n",
    "# need to implement prime number\n",
    "# store alll prime which are comming from prime()\n",
    "# finding largest and smalllest prime number\n",
    "\n",
    "def isPrime(n):\n",
    "    if n==1:\n",
    "        return False\n",
    "   \n",
    "   \n",
    "    for i in range(2,n):\n",
    "        if n%i==0:\n",
    "            return False\n",
    "    return True\n",
    "\n",
    "primes=[]\n",
    "for j in range(1,101):\n",
    "    rs=isPrime(j)\n",
    "    if rs:\n",
    "        #print(j,end=\" \")\n",
    "        primes.append(j)\n",
    "print(primes)\n",
    "#count of primes\n",
    "print(\"count of prime numbers:-\",len(primes))\n",
    "print(\"sum of all prime numbers:-\",sum(primes))\n",
    "print(\"maximum of all prime numbers:-\",primes[-1])"
   ]
  },
  {
   "cell_type": "code",
   "execution_count": 2,
   "metadata": {},
   "outputs": [
    {
     "name": "stdout",
     "output_type": "stream",
     "text": [
      "Enter a number:-24\n",
      "12\n"
     ]
    }
   ],
   "source": [
    "# read num from user\n",
    "# need to find all factors of a given num\n",
    "#ex:4,1,2\n",
    "#15:-1,3,5,15\n",
    "# finding second largest number\n",
    "\n",
    "\n",
    "def numOfFactors(n):\n",
    "    for i in range(1,n+1):\n",
    "        if n%i==0:\n",
    "            #print(i,end=\",\")\n",
    "            facts.append(i)\n",
    "    return facts\n",
    "\n",
    "facts = []  \n",
    "num=int(input(\"Enter a number:-\"))\n",
    "rs = numOfFactors(num)\n",
    "#print(rs)\n",
    "print(rs[-2])\n"
   ]
  },
  {
   "cell_type": "code",
   "execution_count": null,
   "metadata": {},
   "outputs": [],
   "source": []
  }
 ],
 "metadata": {
  "kernelspec": {
   "display_name": "Python 3",
   "language": "python",
   "name": "python3"
  },
  "language_info": {
   "codemirror_mode": {
    "name": "ipython",
    "version": 3
   },
   "file_extension": ".py",
   "mimetype": "text/x-python",
   "name": "python",
   "nbconvert_exporter": "python",
   "pygments_lexer": "ipython3",
   "version": "3.7.4"
  }
 },
 "nbformat": 4,
 "nbformat_minor": 4
}
