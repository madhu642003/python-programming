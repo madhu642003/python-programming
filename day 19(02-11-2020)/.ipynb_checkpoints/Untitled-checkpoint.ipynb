{
 "cells": [
  {
   "cell_type": "code",
   "execution_count": 1,
   "metadata": {},
   "outputs": [
    {
     "name": "stdout",
     "output_type": "stream",
     "text": [
      "Enter a string: jupyter notebook\n",
      "count:16\n"
     ]
    }
   ],
   "source": [
    "\n",
    "#find the no.of characters in a string without using len()\n",
    "s=input(\"Enter a string: \")\n",
    "count=0\n",
    "for i in s:\n",
    "    count+=1\n",
    "print(\"count:{}\".format(count))"
   ]
  },
  {
   "cell_type": "code",
   "execution_count": 2,
   "metadata": {},
   "outputs": [
    {
     "name": "stdout",
     "output_type": "stream",
     "text": [
      "{' ', 'e', 'j', 'y', 't', 'u', 'r', 'o', 'p', 'b', 'n', 'k'}\n",
      " =>1\n",
      "e=>2\n",
      "j=>1\n",
      "y=>1\n",
      "t=>2\n",
      "u=>1\n",
      "r=>1\n",
      "o=>3\n",
      "p=>1\n",
      "b=>1\n",
      "n=>1\n",
      "k=>1\n"
     ]
    }
   ],
   "source": [
    "\n",
    "s=\"jupyter notebook\"\n",
    "print(set(s))\n",
    "ch=set(s)\n",
    "for i in ch:\n",
    "    if i in s:\n",
    "        c=1\n",
    "        print(i,end=\"=>\")\n",
    "        print(s.count(i))"
   ]
  },
  {
   "cell_type": "code",
   "execution_count": 3,
   "metadata": {},
   "outputs": [
    {
     "name": "stdout",
     "output_type": "stream",
     "text": [
      "word count: 5\n",
      "T => 1\n",
      "h => 3\n",
      "i => 3\n",
      "s => 3\n",
      "  => 4\n",
      "P => 2\n",
      "y => 1\n",
      "t => 2\n",
      "o => 2\n",
      "n => 3\n",
      "I => 1\n",
      "e => 1\n",
      "r => 3\n",
      "p => 1\n",
      "g => 1\n",
      "a => 1\n",
      "m => 1\n"
     ]
    }
   ],
   "source": [
    "\n",
    "m=\"This is Python Internship Program\"\n",
    "w=m.split()\n",
    "n=print(\"word count:\",len(w))\n",
    "d={}\n",
    "for i in m:\n",
    "    d[i]=m.count(i)\n",
    "for j,k in d.items():\n",
    "    print(j,\"=>\",k)"
   ]
  },
  {
   "cell_type": "code",
   "execution_count": 4,
   "metadata": {},
   "outputs": [
    {
     "name": "stdout",
     "output_type": "stream",
     "text": [
      "Enter a value24\n",
      "Factors are:\n",
      "1  2  3  4  6  8  12  24  \n",
      "No.of factors of 24 is: 8\n"
     ]
    }
   ],
   "source": [
    "\n",
    "# 1) WAP to count the number of factors of a given number \n",
    "def factors(n):\n",
    "    c=0\n",
    "    for i in range(1,n+1):\n",
    "        if(n%i == 0):\n",
    "            print(i,end=\"  \")\n",
    "            c+=1\n",
    "    print(\"\\nNo.of factors of\",x,\"is:\",c)\n",
    "x=int(input(\"Enter a value\"))\n",
    "print(\"Factors are:\")\n",
    "factors(x)"
   ]
  },
  {
   "cell_type": "code",
   "execution_count": 5,
   "metadata": {},
   "outputs": [
    {
     "name": "stdout",
     "output_type": "stream",
     "text": [
      "Enter a value24\n",
      "\n",
      "No.of factors of 24 is: 1\n",
      "[1, 2, 3, 4, 6, 8, 12, 24]\n",
      "24\n"
     ]
    },
    {
     "data": {
      "text/plain": [
       "12"
      ]
     },
     "execution_count": 5,
     "metadata": {},
     "output_type": "execute_result"
    }
   ],
   "source": [
    "\n",
    "# 2) WAP to find second largest factor of given number\n",
    "def sec_large_factors(x):\n",
    "    for i in range(1,x+1):\n",
    "        if(x%i == 0):\n",
    "            fact.append(i)\n",
    "    print(\"\\nNo.of factors of\",num,\"is:\",c)\n",
    "num=int(input(\"Enter a value\"))\n",
    "fact=[]\n",
    "sec_large_factors(num)\n",
    "print(fact)\n",
    "print(max(fact))\n",
    "def secondHighest(fact):\n",
    "    fact.sort()\n",
    "    return fact[-2]\n",
    "secondHighest(fact)"
   ]
  },
  {
   "cell_type": "code",
   "execution_count": 6,
   "metadata": {},
   "outputs": [
    {
     "name": "stdout",
     "output_type": "stream",
     "text": [
      "Enter a value24\n",
      "\n",
      "No.of factors of 24 is: 1\n",
      "[1, 2, 3, 4, 6, 8, 12, 24]\n",
      "24\n"
     ]
    },
    {
     "data": {
      "text/plain": [
       "2"
      ]
     },
     "execution_count": 6,
     "metadata": {},
     "output_type": "execute_result"
    }
   ],
   "source": [
    "# 3) WAP to find second smallest factor of given number\n",
    "def sec_small_factors(x):\n",
    "    for i in range(1,x+1):\n",
    "        if(x%i == 0):\n",
    "            fact.append(i)\n",
    "    print(\"\\nNo.of factors of\",num,\"is:\",c)\n",
    "num=int(input(\"Enter a value\"))\n",
    "fact=[]\n",
    "sec_small_factors(num)\n",
    "print(fact)\n",
    "print(max(fact))\n",
    "def secondsmallest(fact):\n",
    "    fact.sort()\n",
    "    return fact[1]\n",
    "secondsmallest(fact)"
   ]
  },
  {
   "cell_type": "code",
   "execution_count": 7,
   "metadata": {},
   "outputs": [
    {
     "name": "stdout",
     "output_type": "stream",
     "text": [
      "2 3 5 7 11 13 17 19 23 29 31 37 41 43 47 53 59 61 67 71 73 79 83 89 97 \n",
      "No.of primes:  25\n"
     ]
    }
   ],
   "source": [
    "# 4) WAP to count all prime numbers between 1 and 100\n",
    "count=0\n",
    "for i in range(1,101):\n",
    "    if(i>1):\n",
    "        c=0\n",
    "        for j in range(2,i):\n",
    "            if(i%j==0):\n",
    "                c=c+1\n",
    "        if(c==0):\n",
    "            count+=1\n",
    "            print(i,end=\" \")\n",
    "print(\"\\nNo.of primes: \",count)"
   ]
  },
  {
   "cell_type": "code",
   "execution_count": 8,
   "metadata": {},
   "outputs": [
    {
     "name": "stdout",
     "output_type": "stream",
     "text": [
      "2  3  5  7  11  13  17  19  23  29  31  37  41  43  47  53  59  61  67  71  73  79  83  89  97  \n",
      "Sum.of primes:  1060\n"
     ]
    }
   ],
   "source": [
    "# 5) WAP to find sum of all prime numbers between 1 and 100\n",
    "sum=0\n",
    "for i in range(1,101):\n",
    "    if(i>1):\n",
    "        c=0\n",
    "        for j in range(2,i):\n",
    "            if(i%j==0):\n",
    "                c=c+1\n",
    "        if(c==0):\n",
    "            sum+=i\n",
    "            print(i,end=\"  \")\n",
    "print(\"\\nSum.of primes: \",sum)"
   ]
  },
  {
   "cell_type": "code",
   "execution_count": 9,
   "metadata": {},
   "outputs": [
    {
     "name": "stdout",
     "output_type": "stream",
     "text": [
      "Enter a value24\n",
      "\n",
      "No.of factors of 24 is: 7\n",
      "[1, 2, 3, 4, 6, 8, 12, 24]\n",
      "24\n",
      "Largest prime: 24\n",
      "24\n",
      "smallest prime: 1\n"
     ]
    }
   ],
   "source": [
    "# 6) WAP to find largest and smallest prime between 1 and 100\n",
    "def _factors(x):\n",
    "    for i in range(1,x+1):\n",
    "        if(x%i == 0):\n",
    "            fact.append(i)\n",
    "    print(\"\\nNo.of factors of\",num,\"is:\",c)\n",
    "num=int(input(\"Enter a value\"))\n",
    "fact=[]\n",
    "_factors(num)\n",
    "print(fact)\n",
    "print(max(fact))\n",
    "def Highest(fact):\n",
    "    fact.sort()\n",
    "    print(\"Largest prime:\",fact[-1])\n",
    "Highest(fact)\n",
    "print(max(fact))\n",
    "def smallest(fact):\n",
    "    fact.sort()\n",
    "    print(\"smallest prime:\",fact[0])\n",
    "smallest(fact)"
   ]
  },
  {
   "cell_type": "code",
   "execution_count": null,
   "metadata": {},
   "outputs": [],
   "source": []
  }
 ],
 "metadata": {
  "kernelspec": {
   "display_name": "Python 3",
   "language": "python",
   "name": "python3"
  },
  "language_info": {
   "codemirror_mode": {
    "name": "ipython",
    "version": 3
   },
   "file_extension": ".py",
   "mimetype": "text/x-python",
   "name": "python",
   "nbconvert_exporter": "python",
   "pygments_lexer": "ipython3",
   "version": "3.7.4"
  }
 },
 "nbformat": 4,
 "nbformat_minor": 4
}
