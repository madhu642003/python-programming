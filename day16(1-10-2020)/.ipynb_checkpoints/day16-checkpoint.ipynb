{
 "cells": [
  {
   "cell_type": "markdown",
   "metadata": {},
   "source": [
    "## File Handing\n",
    "- File:\n",
    "    - File is saved in some location on local system to store some information\n",
    "    - Ex: .txt, .html, .ipyb, .png, .....\n",
    "- Filehanding:\n",
    "    - Create,read,update,delete\n",
    "    - Create\n",
    "    - Open\n",
    "    - Working\n",
    "    - Close\n",
    "- File methods:\n",
    " - open():\n",
    "        - syntax: file_obj.open(\"filename\",\"mode\")\n",
    "    - read():\n",
    "        - syntax: file_obj.read(size)\n",
    "    - write():\n",
    "        - syntax: file_obj.write(data)\n",
    "    - close():\n",
    "        - syntax: file_obj.close()\n",
    "    - readlines():\n",
    "        - syntax: file_obj.readlines()\n",
    "- Different Modes:\n",
    "    - open(\"filename\",\"mode\")\n",
    "    - open(\"filename\",\"r\")\n",
    "    - open(\"filename\",\"w\")\n",
    "    - open(\"filename\",\"a\") \n",
    "    - open(\"filename\",\"r+\")\n",
    "    - open(\"filename\",\"w+\")"
   ]
  },
  {
   "cell_type": "code",
   "execution_count": 1,
   "metadata": {},
   "outputs": [
    {
     "name": "stdout",
     "output_type": "stream",
     "text": [
      "Done\n"
     ]
    }
   ],
   "source": [
    "# creatng a file \n",
    "f=open(\"file.txt\",\"w\")\n",
    "data=\"Welcome to python internship program\"\n",
    "f.write(data)\n",
    "print(\"Done\")\n",
    "f.close()\n"
   ]
  },
  {
   "cell_type": "code",
   "execution_count": 2,
   "metadata": {},
   "outputs": [
    {
     "name": "stdout",
     "output_type": "stream",
     "text": [
      "Welcome to python internship program\n"
     ]
    }
   ],
   "source": [
    "# reading a file \n",
    "file=open(\"file.txt\",\"r\")\n",
    "data1=file.read()\n",
    "print(data1)\n",
    "file.close()"
   ]
  },
  {
   "cell_type": "code",
   "execution_count": 3,
   "metadata": {},
   "outputs": [
    {
     "name": "stdout",
     "output_type": "stream",
     "text": [
      "Done\n"
     ]
    }
   ],
   "source": [
    "# Appending data\n",
    "f=open(\"file.txt\",\"a\")\n",
    "data=\"\\n\"+\"Hello everyone\"\n",
    "f.write(data)\n",
    "print(\"Done\")\n",
    "f.close()"
   ]
  },
  {
   "cell_type": "code",
   "execution_count": 4,
   "metadata": {},
   "outputs": [
    {
     "name": "stdout",
     "output_type": "stream",
     "text": [
      "Welcome to python internship program\n",
      "Hello everyone\n"
     ]
    }
   ],
   "source": [
    "# reading a file \n",
    "file=open(\"file.txt\",\"r\")\n",
    "data1=file.read()\n",
    "print(data1)\n",
    "file.close()"
   ]
  },
  {
   "cell_type": "code",
   "execution_count": 5,
   "metadata": {},
   "outputs": [
    {
     "name": "stdout",
     "output_type": "stream",
     "text": [
      "Welcome to python internship program\n",
      "Hello everyone\n"
     ]
    }
   ],
   "source": [
    "with open(\"file.txt\",\"r\")as file:\n",
    "    data=file.read()\n",
    "    print(data)"
   ]
  },
  {
   "cell_type": "code",
   "execution_count": 6,
   "metadata": {},
   "outputs": [
    {
     "name": "stdout",
     "output_type": "stream",
     "text": [
      "Enter some data : 2\n",
      "completed....................\n"
     ]
    }
   ],
   "source": [
    "file=open(\"file2.txt\",\"w\")\n",
    "file.write(input(\"Enter some data : \"))\n",
    "print(\"completed\"+(\".\"*20))\n",
    "file.close()"
   ]
  },
  {
   "cell_type": "code",
   "execution_count": 7,
   "metadata": {},
   "outputs": [
    {
     "ename": "FileNotFoundError",
     "evalue": "[Errno 2] No such file or directory: 'E:\\\\sample.txt'",
     "output_type": "error",
     "traceback": [
      "\u001b[1;31m---------------------------------------------------------------------------\u001b[0m",
      "\u001b[1;31mFileNotFoundError\u001b[0m                         Traceback (most recent call last)",
      "\u001b[1;32m<ipython-input-7-02867a39bcad>\u001b[0m in \u001b[0;36m<module>\u001b[1;34m\u001b[0m\n\u001b[0;32m      2\u001b[0m \u001b[1;31m#\\ replace with /\u001b[0m\u001b[1;33m\u001b[0m\u001b[1;33m\u001b[0m\u001b[1;33m\u001b[0m\u001b[0m\n\u001b[0;32m      3\u001b[0m \u001b[1;31m#r--> rawpath or raw location,r\"D\\\"\u001b[0m\u001b[1;33m\u001b[0m\u001b[1;33m\u001b[0m\u001b[1;33m\u001b[0m\u001b[0m\n\u001b[1;32m----> 4\u001b[1;33m \u001b[0mf\u001b[0m\u001b[1;33m=\u001b[0m\u001b[0mopen\u001b[0m\u001b[1;33m(\u001b[0m\u001b[1;34m\"E:\\\\sample.txt\"\u001b[0m\u001b[1;33m,\u001b[0m\u001b[1;34m\"r\"\u001b[0m\u001b[1;33m)\u001b[0m \u001b[1;31m# filelocation\\filename.txt\u001b[0m\u001b[1;33m\u001b[0m\u001b[1;33m\u001b[0m\u001b[0m\n\u001b[0m\u001b[0;32m      5\u001b[0m \u001b[0md\u001b[0m\u001b[1;33m=\u001b[0m\u001b[0mf\u001b[0m\u001b[1;33m.\u001b[0m\u001b[0mread\u001b[0m\u001b[1;33m(\u001b[0m\u001b[1;33m)\u001b[0m\u001b[1;33m\u001b[0m\u001b[1;33m\u001b[0m\u001b[0m\n\u001b[0;32m      6\u001b[0m \u001b[0mprint\u001b[0m\u001b[1;33m(\u001b[0m\u001b[0md\u001b[0m\u001b[1;33m)\u001b[0m\u001b[1;33m\u001b[0m\u001b[1;33m\u001b[0m\u001b[0m\n",
      "\u001b[1;31mFileNotFoundError\u001b[0m: [Errno 2] No such file or directory: 'E:\\\\sample.txt'"
     ]
    }
   ],
   "source": [
    "#\\ replace with \\\\\n",
    "#\\ replace with /\n",
    "#r--> rawpath or raw location,r\"D\\\"   \n",
    "f=open(\"E:\\\\sample.txt\",\"r\") # filelocation\\filename.txt\n",
    "d=f.read()\n",
    "print(d)\n",
    "f.close()"
   ]
  },
  {
   "cell_type": "markdown",
   "metadata": {},
   "source": [
    "- File objective methods\n",
    "    - seek()\n",
    "        - used to change the cursor position\n",
    "    - tell()\n",
    "        - used to know the cursor position"
   ]
  },
  {
   "cell_type": "code",
   "execution_count": 8,
   "metadata": {},
   "outputs": [
    {
     "name": "stdout",
     "output_type": "stream",
     "text": [
      "11\n",
      "Welcome to \n",
      "20\n"
     ]
    }
   ],
   "source": [
    "f=open(\"file.txt\",\"r\")\n",
    "data=f.read(11)\n",
    "print(f.tell())\n",
    "print(data)\n",
    "f.seek(20)\n",
    "print(f.tell())\n",
    "f.close()\n"
   ]
  },
  {
   "cell_type": "code",
   "execution_count": 9,
   "metadata": {},
   "outputs": [
    {
     "name": "stdout",
     "output_type": "stream",
     "text": [
      "enoyreve olleH\n",
      "margorp pihsnretni nohtyp ot emocleW\n"
     ]
    }
   ],
   "source": [
    "# Task:Read the data in reverse order\n",
    "with open(\"file.txt\",\"r\")as file:\n",
    "    data=file.read()\n",
    "    print(data[::-1])"
   ]
  },
  {
   "cell_type": "code",
   "execution_count": 10,
   "metadata": {},
   "outputs": [
    {
     "name": "stdout",
     "output_type": "stream",
     "text": [
      "['Welcome to python internship program\\n', 'Hello everyone']\n"
     ]
    }
   ],
   "source": [
    "with open(\"file.txt\",\"r\")as file:\n",
    "    data=file.readlines()\n",
    "    print(data)"
   ]
  },
  {
   "cell_type": "code",
   "execution_count": 11,
   "metadata": {},
   "outputs": [
    {
     "name": "stdout",
     "output_type": "stream",
     "text": [
      "Welcome to python internship program\n",
      "\n",
      "Hello everyone\n"
     ]
    }
   ],
   "source": [
    "with open(\"file.txt\",\"r\")as file:\n",
    "    data=file.readlines()\n",
    "    for i in data:\n",
    "        print(i)\n"
   ]
  },
  {
   "cell_type": "code",
   "execution_count": 12,
   "metadata": {},
   "outputs": [
    {
     "name": "stdout",
     "output_type": "stream",
     "text": [
      "['Welcome to python internship program\\n', 'Hello everyone']\n",
      "['Welcome', 'to', 'python', 'internship', 'program\\n']\n",
      "word count: 5\n",
      "['Hello', 'everyone']\n",
      "word count: 2\n"
     ]
    }
   ],
   "source": [
    "# split the data and find the word count in each line\n",
    "with open(\"file.txt\",\"r\")as file:\n",
    "    data=file.readlines()\n",
    "    print(data)\n",
    "    for lines in data:\n",
    "        words=lines.split(\" \")\n",
    "        print(words)\n",
    "        print(\"word count:\",len(words))"
   ]
  },
  {
   "cell_type": "code",
   "execution_count": 13,
   "metadata": {},
   "outputs": [
    {
     "name": "stdout",
     "output_type": "stream",
     "text": [
      "W\n",
      "e\n",
      "l\n",
      "c\n",
      "o\n",
      "m\n",
      "e\n",
      " \n",
      "t\n",
      "o\n",
      " \n",
      "p\n",
      "y\n",
      "t\n",
      "h\n",
      "o\n",
      "n\n",
      " \n",
      "i\n",
      "n\n",
      "t\n",
      "e\n",
      "r\n",
      "n\n",
      "s\n",
      "h\n",
      "i\n",
      "p\n",
      " \n",
      "p\n",
      "r\n",
      "o\n",
      "g\n",
      "r\n",
      "a\n",
      "m\n",
      "\n",
      "\n",
      "H\n",
      "e\n",
      "l\n",
      "l\n",
      "o\n",
      " \n",
      "e\n",
      "v\n",
      "e\n",
      "r\n",
      "y\n",
      "o\n",
      "n\n",
      "e\n"
     ]
    }
   ],
   "source": [
    "with open(\"file.txt\",\"r\")as file:\n",
    "    data=file.read()\n",
    "    for ele in data:\n",
    "        print(ele)"
   ]
  },
  {
   "cell_type": "code",
   "execution_count": 14,
   "metadata": {},
   "outputs": [
    {
     "name": "stdout",
     "output_type": "stream",
     "text": [
      "Welcome ->: 7\n",
      "to ->: 2\n",
      "python ->: 6\n",
      "internship ->: 10\n",
      "program\n",
      " ->: 8\n",
      "Hello ->: 5\n",
      "everyone ->: 8\n"
     ]
    }
   ],
   "source": [
    "# find the lenth of each word\n",
    "with open(\"file.txt\",\"r\")as file:\n",
    "    data=file.readlines()\n",
    "    for lines in data:\n",
    "        words=lines.split(\" \")\n",
    "        for ele in words:\n",
    "            print(ele,\"->:\",len(ele))"
   ]
  },
  {
   "cell_type": "code",
   "execution_count": 15,
   "metadata": {},
   "outputs": [
    {
     "name": "stdout",
     "output_type": "stream",
     "text": [
      "['hii', 'hello', 'hii', 'hello', 'everyone']\n"
     ]
    },
    {
     "ename": "NameError",
     "evalue": "name 'word' is not defined",
     "output_type": "error",
     "traceback": [
      "\u001b[1;31m---------------------------------------------------------------------------\u001b[0m",
      "\u001b[1;31mNameError\u001b[0m                                 Traceback (most recent call last)",
      "\u001b[1;32m<ipython-input-15-07b9cfb0c464>\u001b[0m in \u001b[0;36m<module>\u001b[1;34m\u001b[0m\n\u001b[0;32m      6\u001b[0m \u001b[1;32mfor\u001b[0m \u001b[0mi\u001b[0m \u001b[1;32min\u001b[0m \u001b[0mwords\u001b[0m\u001b[1;33m:\u001b[0m\u001b[1;33m\u001b[0m\u001b[1;33m\u001b[0m\u001b[0m\n\u001b[0;32m      7\u001b[0m     \u001b[0mw\u001b[0m\u001b[1;33m[\u001b[0m\u001b[0mi\u001b[0m\u001b[1;33m]\u001b[0m\u001b[1;33m=\u001b[0m\u001b[0mwords\u001b[0m\u001b[1;33m.\u001b[0m\u001b[0mcount\u001b[0m\u001b[1;33m(\u001b[0m\u001b[0mi\u001b[0m\u001b[1;33m)\u001b[0m\u001b[1;33m\u001b[0m\u001b[1;33m\u001b[0m\u001b[0m\n\u001b[1;32m----> 8\u001b[1;33m \u001b[0mword\u001b[0m\u001b[1;33m\u001b[0m\u001b[1;33m\u001b[0m\u001b[0m\n\u001b[0m",
      "\u001b[1;31mNameError\u001b[0m: name 'word' is not defined"
     ]
    }
   ],
   "source": [
    "# find out frequency of each word\n",
    "a=\"hii hello hii hello everyone\"\n",
    "words=a.split(\" \")\n",
    "print(words)\n",
    "w={}\n",
    "for i in words:\n",
    "    w[i]=words.count(i)\n",
    "word\n"
   ]
  },
  {
   "cell_type": "code",
   "execution_count": 16,
   "metadata": {},
   "outputs": [
    {
     "data": {
      "text/plain": [
       "{1: 3, 2: 4, 3: 1, 4: 2, 5: 1, 6: 1}"
      ]
     },
     "execution_count": 16,
     "metadata": {},
     "output_type": "execute_result"
    }
   ],
   "source": [
    "a=[1,2,3,4,5,6,4,2,2,1,1,2]## words\n",
    "d1={}\n",
    "for i in a:\n",
    "    d1[i]=a.count(i)\n",
    "d1"
   ]
  },
  {
   "cell_type": "code",
   "execution_count": null,
   "metadata": {},
   "outputs": [],
   "source": []
  }
 ],
 "metadata": {
  "kernelspec": {
   "display_name": "Python 3",
   "language": "python",
   "name": "python3"
  },
  "language_info": {
   "codemirror_mode": {
    "name": "ipython",
    "version": 3
   },
   "file_extension": ".py",
   "mimetype": "text/x-python",
   "name": "python",
   "nbconvert_exporter": "python",
   "pygments_lexer": "ipython3",
   "version": "3.7.4"
  }
 },
 "nbformat": 4,
 "nbformat_minor": 4
}
