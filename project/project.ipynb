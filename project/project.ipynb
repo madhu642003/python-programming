{
 "cells": [
  {
   "cell_type": "code",
   "execution_count": null,
   "metadata": {},
   "outputs": [],
   "source": [
    "from turtle import*\n",
    "from random import randint\n",
    "bgcolor(\"black\")\n",
    "\n",
    "x=1\n",
    "speed(0)\n",
    "shape(\"turtle\")\n",
    "\n",
    "while x<400:\n",
    "    r=randint(0,255)\n",
    "    g=randint(0,255)\n",
    "    b=randint(0,255)\n",
    "    \n",
    "    colormode(255)\n",
    "    pencolor(r,g,b)\n",
    "    forward(5+x)\n",
    "    right(90.99)\n",
    "    x=x+1\n",
    "exitonclick()"
   ]
  },
  {
   "cell_type": "code",
   "execution_count": 4,
   "metadata": {},
   "outputs": [],
   "source": [
    "import turtle\n",
    "\n",
    "turtle.bgcolor(\"black\")\n",
    "turtle.pensize(2)\n",
    "turtle.speed(0)\n",
    "for i in range(6):\n",
    "    for colours in[\"red\", \"magenta\", \"blue\", \"cyan\", \"green\", \"yellow\", \"white\"]:\n",
    "        turtle.color(colours)\n",
    "        turtle.circle(100)\n",
    "        turtle.left(10)\n",
    "turtle.hideturtle()"
   ]
  },
  {
   "cell_type": "code",
   "execution_count": null,
   "metadata": {},
   "outputs": [],
   "source": []
  }
 ],
 "metadata": {
  "kernelspec": {
   "display_name": "Python 3",
   "language": "python",
   "name": "python3"
  },
  "language_info": {
   "codemirror_mode": {
    "name": "ipython",
    "version": 3
   },
   "file_extension": ".py",
   "mimetype": "text/x-python",
   "name": "python",
   "nbconvert_exporter": "python",
   "pygments_lexer": "ipython3",
   "version": "3.7.4"
  }
 },
 "nbformat": 4,
 "nbformat_minor": 4
}
