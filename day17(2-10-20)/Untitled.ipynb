{
 "cells": [
  {
   "cell_type": "code",
   "execution_count": 2,
   "metadata": {},
   "outputs": [
    {
     "name": "stdout",
     "output_type": "stream",
     "text": [
      "enter a number123\n",
      "sum of digits is 6.666666666666668\n"
     ]
    }
   ],
   "source": [
    "# find the sum of digits ex:123=>1+2+3\n",
    "n=int(input(\"enter a number\"))\n",
    "s=0\n",
    "while(n>0):\n",
    "    r=n%10\n",
    "    s=s+r\n",
    "    n=n/10\n",
    "print(\"sum of digits is\",s)"
   ]
  },
  {
   "cell_type": "code",
   "execution_count": 3,
   "metadata": {},
   "outputs": [
    {
     "name": "stdout",
     "output_type": "stream",
     "text": [
      "enter a number12\n",
      "number of digits is 325\n"
     ]
    }
   ],
   "source": [
    "#s=\"123\" => count the number of digits =>3;\n",
    "n=int(input(\"enter a number\"))\n",
    "count=0\n",
    "while(n>0):\n",
    "    m=n%10\n",
    "    count=count+1\n",
    "    n=n/10\n",
    "print(\"number of digits is\",count)\n",
    "    \n"
   ]
  },
  {
   "cell_type": "code",
   "execution_count": null,
   "metadata": {},
   "outputs": [],
   "source": []
  }
 ],
 "metadata": {
  "kernelspec": {
   "display_name": "Python 3",
   "language": "python",
   "name": "python3"
  }
 },
 "nbformat": 4,
 "nbformat_minor": 4
}
